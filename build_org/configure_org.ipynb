{
 "cells": [
  {
   "cell_type": "markdown",
   "metadata": {},
   "source": [
    "# Configure Org\n",
    "*Jupyter Notebook to customize an ArcGIS Online organization UI & add users*"
   ]
  },
  {
   "cell_type": "code",
   "execution_count": null,
   "metadata": {
    "collapsed": true
   },
   "outputs": [],
   "source": [
    "# common imports\n",
    "from arcgis.gis import GIS"
   ]
  },
  {
   "cell_type": "markdown",
   "metadata": {},
   "source": [
    "***Note**, if you are unable to import local `partnerutils`, **copy the following functions** from [`user_utils`](https://github.com/mpayson/esri-partner-tools/blob/master/partnerutils/user_utils.py) and [`clone_utils`](https://github.com/mpayson/esri-partner-tools/blob/master/partnerutils/clone_utils.py)"
   ]
  },
  {
   "cell_type": "code",
   "execution_count": 1,
   "metadata": {
    "collapsed": true
   },
   "outputs": [],
   "source": [
    "from partnerutils.user_utils import add_users_csv\n",
    "from partnerutils.clone_utils import search_group_title"
   ]
  },
  {
   "cell_type": "markdown",
   "metadata": {},
   "source": [
    "## User Input"
   ]
  },
  {
   "cell_type": "markdown",
   "metadata": {},
   "source": [
    "### GIS Configuration\n",
    "Organization to be built. Parameter information [here](https://developers.arcgis.com/python/guide/using-the-gis/)."
   ]
  },
  {
   "cell_type": "code",
   "execution_count": null,
   "metadata": {
    "collapsed": true
   },
   "outputs": [],
   "source": [
    "# org to be customized\n",
    "gis = GIS(\"<template GIS>\", \"<un>\", \"<pw>\")"
   ]
  },
  {
   "cell_type": "markdown",
   "metadata": {},
   "source": [
    "### UI Configuration\n",
    "Constants to define organization users and UI building blocks. This script will also search for groups and create them if they don't exist, as defined by the [schema](https://esri.github.io/arcgis-python-api/apidoc/html/arcgis.gis.toc.html#arcgis.gis.GroupManager.create)."
   ]
  },
  {
   "cell_type": "code",
   "execution_count": null,
   "metadata": {
    "collapsed": true
   },
   "outputs": [],
   "source": [
    "# path to csv with users to be added\n",
    "USER_CSV = \"<CSV PATH>\"\n",
    "\n",
    "# (optional) groups to share with users\n",
    "GROUPS = [\"<GROUP 1>\", \"<GROUP 2>\"]\n",
    "\n",
    "# (optional) group schema to create new groups if GROUPS don't exist\n",
    "GROUPSCHEMA = {\n",
    "    \"tags\": \"test, group, poc, scripts\",\n",
    "    \"description\": \"Test group for partner python scripts\",\n",
    "    \"access\": 'private',\n",
    "    \"is_invitation_only\": True,\n",
    "    \"users_update_items\": False\n",
    "}\n",
    "\n",
    "# (optional) organization UX component locations\n",
    "THUMBNAIL_PATH = \"<THUMBNAIL PATH>\"\n",
    "FOOTER_PATH = \"<FOOTER PATH>\"\n",
    "BANNER_PATH = \"<BANNER PATH>\"\n",
    "BACKGROUND_PATH = \"<BACKGROUND PATH>\"\n",
    "\n",
    "# (optional) featured content group\n",
    "FEATURED_GROUP = \"<GROUP>\""
   ]
  },
  {
   "cell_type": "markdown",
   "metadata": {},
   "source": [
    "## Execution"
   ]
  },
  {
   "cell_type": "markdown",
   "metadata": {},
   "source": [
    "### Fetch & Create Groups"
   ]
  },
  {
   "cell_type": "code",
   "execution_count": null,
   "metadata": {
    "collapsed": true
   },
   "outputs": [],
   "source": [
    "share_groups = []\n",
    "for g in groups:\n",
    "    g_r = search_group_title(gis, g)\n",
    "    if g_r is None:\n",
    "        GROUPSCHEMA[\"title\"] = g\n",
    "        g_r = gis.groups.create_from_dict(group_schema)\n",
    "    share_groups.append(g_r)"
   ]
  },
  {
   "cell_type": "markdown",
   "metadata": {},
   "source": [
    "### Add users"
   ]
  },
  {
   "cell_type": "code",
   "execution_count": null,
   "metadata": {
    "collapsed": true
   },
   "outputs": [],
   "source": [
    "# add users to the organization and specified groups\n",
    "add_users_csv(USER_CSV, gis, groups=share_groups)"
   ]
  },
  {
   "cell_type": "markdown",
   "metadata": {},
   "source": [
    "### Customize UI"
   ]
  },
  {
   "cell_type": "code",
   "execution_count": null,
   "metadata": {
    "collapsed": true
   },
   "outputs": [],
   "source": [
    "# set UX components\n",
    "ux = gis.admin.ux\n",
    "ux.set_background(BACKGROUND_PATH)\n",
    "ux.set_banner(BANNER_PATH)\n",
    "ux.set_logo(THUMBNAIL_PATH)\n",
    "\n",
    "# find and set featured group\n",
    "if FEATURED_GROUP:\n",
    "    featured_group = gis.groups.search(FEATURED_GROUP)[0]\n",
    "    ux.featured_content = {'group': featured_group}"
   ]
  }
 ],
 "metadata": {
  "kernelspec": {
   "display_name": "Python 3",
   "language": "python",
   "name": "python3"
  },
  "language_info": {
   "codemirror_mode": {
    "name": "ipython",
    "version": 3
   },
   "file_extension": ".py",
   "mimetype": "text/x-python",
   "name": "python",
   "nbconvert_exporter": "python",
   "pygments_lexer": "ipython3",
   "version": "3.6.3"
  }
 },
 "nbformat": 4,
 "nbformat_minor": 2
}
