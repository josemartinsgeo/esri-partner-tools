{
 "cells": [
  {
   "cell_type": "markdown",
   "metadata": {},
   "source": [
    "# Clone Groups\n",
    "*Jupyter Notebook to clone groups and their items. Configurable notebook over this awesome [`clone_items`](https://esri.github.io/arcgis-python-api/apidoc/html/arcgis.gis.toc.html#arcgis.gis.ContentManager.clone_items) function*"
   ]
  },
  {
   "cell_type": "code",
   "execution_count": null,
   "metadata": {
    "collapsed": true
   },
   "outputs": [],
   "source": [
    "# common imports\n",
    "from arcgis.gis import GIS"
   ]
  },
  {
   "cell_type": "markdown",
   "metadata": {},
   "source": [
    "## User Input"
   ]
  },
  {
   "cell_type": "markdown",
   "metadata": {},
   "source": [
    "### GIS Configuration\n",
    "Parameter information [here](https://developers.arcgis.com/python/guide/using-the-gis/).\n",
    "* **source** - the ArcGIS Online organization that contains the default groups & items\n",
    "* **target** - the new organization"
   ]
  },
  {
   "cell_type": "code",
   "execution_count": null,
   "metadata": {
    "collapsed": true
   },
   "outputs": [],
   "source": [
    "# log in to respective portals\n",
    "source = GIS(\"<template GIS>\", \"<un>\", \"<pw>\")\n",
    "target = GIS(\"<project GIS>\", \"<un>\", \"<pw>\")"
   ]
  },
  {
   "cell_type": "markdown",
   "metadata": {},
   "source": [
    "### Clone Configuration\n",
    "Defines the groups that will be cloned and the naming structures of cloned items & groups"
   ]
  },
  {
   "cell_type": "code",
   "execution_count": null,
   "metadata": {
    "collapsed": true
   },
   "outputs": [],
   "source": [
    "# groups to be copied from source to target organization\n",
    "GROUPS = [\"<GROUP1>\", \"<GROUP2>\"]\n",
    "\n",
    "# (optional) new item name structure, {} replaced by source item name\n",
    "NAME_TEMPLATE = \"<APP NAME> {}\"\n",
    "# (optional) user folder for new items\n",
    "FOLDER = \"<APP NAME> Content\" "
   ]
  },
  {
   "cell_type": "markdown",
   "metadata": {},
   "source": [
    "### Utility Functions\n",
    "**NOTE** if you are unable to import local files, **replace the following cell** with the code in [**clone_utils.py**](https://github.com/mpayson/startup-python-tools/blob/master/utils/clone_utils.py)\n",
    "\n",
    "Why not just `from ..utils.user_utils import *`? I thought having a top-level `utils` folder would be helpful, see more [here](https://stackoverflow.com/questions/34478398/import-local-function-from-a-module-housed-in-another-directory-with-relative-im)"
   ]
  },
  {
   "cell_type": "code",
   "execution_count": 1,
   "metadata": {
    "collapsed": true
   },
   "outputs": [],
   "source": [
    "import os\n",
    "import sys\n",
    "module_path = os.path.abspath(os.path.join('..'))\n",
    "if module_path not in sys.path:\n",
    "    sys.path.append(module_path)\n",
    "from utils.clone_utils import search_group_title, search_item_title, clone_items_modify"
   ]
  },
  {
   "cell_type": "markdown",
   "metadata": {},
   "source": [
    "## Execution"
   ]
  },
  {
   "cell_type": "markdown",
   "metadata": {},
   "source": [
    "### Modify Functions\n",
    "Sometimes you don't want a 1:1 copy, these functions will modify the cloned item properties. A few notes:\n",
    "* The default behavior is to update the item to match the NAME_TEMPLATE, if it's not defined these will not be called"
   ]
  },
  {
   "cell_type": "code",
   "execution_count": null,
   "metadata": {
    "collapsed": true
   },
   "outputs": [],
   "source": [
    "# update title functions\n",
    "def modify_item_callback(item, target):\n",
    "    title = NAME_TEMPLATE.format(item.title)\n",
    "    while search_item_title(target, title):\n",
    "        title = input(\"Title `{0}` for ITEM `{1}` already exists \\n new title: \"\n",
    "                         .format(title, item.title))\n",
    "    return {\"title\": title}\n",
    "def modify_group_callback(group, expected_title, target):\n",
    "    title = NAME_TEMPLATE.format(expected_title)\n",
    "    while search_group_title(target, title):\n",
    "        title = input(\"Title `{0}` for GROUP `{1}` already exists \\n new title: \"\n",
    "                         .format(title, expected_title))\n",
    "    return {\"title\": title}\n",
    "\n",
    "# these functions provide little utility if NAME_TEMPLATE is None, so don't use if this is the case\n",
    "modify_item = modify_item_callback if NAME_TEMPLATE else None\n",
    "modify_group = modify_group_callback if NAME_TEMPLATE else None"
   ]
  },
  {
   "cell_type": "markdown",
   "metadata": {},
   "source": [
    "### Clone"
   ]
  },
  {
   "cell_type": "code",
   "execution_count": null,
   "metadata": {
    "collapsed": true
   },
   "outputs": [],
   "source": [
    "# get groups\n",
    "source_groups = [search_group_title(source, title) for title in GROUPS]\n",
    "\n",
    "# copy the groups\n",
    "results = clone_items_modify(template_project_groups, project,\n",
    "                                     modify_item_callback=modify_item,\n",
    "                                     modify_group_callback=modify_group,\n",
    "                                     copy_data=False, search_existing_items=False, folder=FOLDER)"
   ]
  }
 ],
 "metadata": {
  "kernelspec": {
   "display_name": "Python 3",
   "language": "python",
   "name": "python3"
  },
  "language_info": {
   "codemirror_mode": {
    "name": "ipython",
    "version": 3
   },
   "file_extension": ".py",
   "mimetype": "text/x-python",
   "name": "python",
   "nbconvert_exporter": "python",
   "pygments_lexer": "ipython3",
   "version": "3.6.3"
  }
 },
 "nbformat": 4,
 "nbformat_minor": 2
}
