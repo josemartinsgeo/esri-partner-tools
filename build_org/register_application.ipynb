{
 "cells": [
  {
   "cell_type": "markdown",
   "metadata": {},
   "source": [
    "# Register Application\n",
    "This script quickly demonstrates how to automatically [register an application](https://developers.arcgis.com/documentation/core-concepts/security-and-authentication/signing-in-arcgis-online-users/). If you're building an app that needs to authenticate into multiple [Enterprise](https://www.esri.com/en-us/arcgis/products/arcgis-enterprise/overview) instances, that app needs to be registered as an item in each instance. This script, with the appropriate credentials, can save pressing a few buttons."
   ]
  },
  {
   "cell_type": "code",
   "execution_count": null,
   "metadata": {},
   "outputs": [],
   "source": [
    "import requests\n",
    "import json\n",
    "from arcgis.gis import GIS"
   ]
  },
  {
   "cell_type": "code",
   "execution_count": null,
   "metadata": {},
   "outputs": [],
   "source": [
    "gis = GIS(username='mpayson_startups')"
   ]
  },
  {
   "cell_type": "markdown",
   "metadata": {},
   "source": [
    "## Configuration Parameters"
   ]
  },
  {
   "cell_type": "code",
   "execution_count": null,
   "metadata": {},
   "outputs": [],
   "source": [
    "app_props = {\n",
    "    'title': 'My Awesome App',\n",
    "    'tags': 'these, are, awesome, tags',\n",
    "    'description': 'An awesome app with awesome tags',\n",
    "    'type': 'Application'\n",
    "}\n",
    "redirect_uris = [\n",
    "  \"https://app.foo.com\",\n",
    "  \"urn:ietf:wg:oauth:2.0:oob\"\n",
    "]"
   ]
  },
  {
   "cell_type": "markdown",
   "metadata": {},
   "source": [
    "## Add and Register the Item\n",
    "An app is first added as an item then registered. More on [add item](https://esri.github.io/arcgis-python-api/apidoc/html/arcgis.gis.toc.html#arcgis.gis.ContentManager.add) and [registration](https://developers.arcgis.com/rest/users-groups-and-items/register-app.htm)"
   ]
  },
  {
   "cell_type": "code",
   "execution_count": null,
   "metadata": {},
   "outputs": [],
   "source": [
    "app_item = gis.content.add(app_props)\n",
    "app_item"
   ]
  },
  {
   "cell_type": "code",
   "execution_count": null,
   "metadata": {},
   "outputs": [],
   "source": [
    "# note, for now assumes the portal supports https\n",
    "register_url = '{0}/oauth2/registerApp'.format(gis._portal.resturl)\n",
    "uri_str = json.dumps(redirect_uris)\n",
    "register_props = {\n",
    "    'itemId': app_item.id,\n",
    "    'appType': 'multiple',\n",
    "    'redirect_uris': uri_str,\n",
    "    'token': gis._portal.con._token,\n",
    "    'f': 'json'\n",
    "}"
   ]
  },
  {
   "cell_type": "code",
   "execution_count": null,
   "metadata": {},
   "outputs": [],
   "source": [
    "# register it!\n",
    "r = requests.post(register_url, data=register_props)\n",
    "resp_dict = json.loads(r.text)\n",
    "if \"error\" in resp_dict:\n",
    "    print(resp_dict)\n",
    "else:\n",
    "    print(\"client id: {0}\".format(resp_dict[\"client_id\"]))"
   ]
  }
 ],
 "metadata": {
  "kernelspec": {
   "display_name": "Python 3",
   "language": "python",
   "name": "python3"
  },
  "language_info": {
   "codemirror_mode": {
    "name": "ipython",
    "version": 3
   },
   "file_extension": ".py",
   "mimetype": "text/x-python",
   "name": "python",
   "nbconvert_exporter": "python",
   "pygments_lexer": "ipython3",
   "version": "3.6.3"
  }
 },
 "nbformat": 4,
 "nbformat_minor": 2
}
