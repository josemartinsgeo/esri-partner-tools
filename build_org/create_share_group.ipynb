{
 "cells": [
  {
   "cell_type": "markdown",
   "metadata": {},
   "source": [
    "# Create & Share Group\n",
    "\n",
    "This script shows how to create a group and invite users. Let's say you're wiring up your product for your users, this script is useful if they already have accounts (as opposed to [configuring](https://github.com/mpayson/esri-partner-tools/blob/master/build_org/configure_org.ipynb) a new org) and you want a mechanism to [grant them access](https://github.com/mpayson/esri-partner-tools/blob/master/common_workflows/share_to_groups.ipynb) to your content, without copying it to their instance."
   ]
  },
  {
   "cell_type": "code",
   "execution_count": null,
   "metadata": {
    "collapsed": true
   },
   "outputs": [],
   "source": [
    "from arcgis.gis import GIS"
   ]
  },
  {
   "cell_type": "markdown",
   "metadata": {},
   "source": [
    "***Note**, if you are unable to import local `partnerutils`, **copy the following functions** from [`clone_utils`](https://github.com/mpayson/partner-python-tools/blob/master/partnerutils/clone_utils.py)"
   ]
  },
  {
   "cell_type": "code",
   "execution_count": null,
   "metadata": {
    "collapsed": true
   },
   "outputs": [],
   "source": [
    "from partnerutils.clone_utils import search_group_title"
   ]
  },
  {
   "cell_type": "code",
   "execution_count": null,
   "metadata": {
    "collapsed": true
   },
   "outputs": [],
   "source": [
    "gis = GIS(username=\"mpayson_startups\")"
   ]
  },
  {
   "cell_type": "markdown",
   "metadata": {},
   "source": [
    "## Create or Fetch Group\n",
    "\n",
    "Groups are used to share content with other organizations. This section is used to fetch an existing group or build a new one. More on [groups](https://doc.arcgis.com/en/arcgis-online/share-maps/groups.htm) and [schema](https://esri.github.io/arcgis-python-api/apidoc/html/arcgis.gis.toc.html#arcgis.gis.GroupManager.create)."
   ]
  },
  {
   "cell_type": "code",
   "execution_count": null,
   "metadata": {
    "collapsed": true
   },
   "outputs": [],
   "source": [
    "# Group Schema\n",
    "# users_update_items must be false to invite members from other organizations\n",
    "group_schema = {\n",
    "    \"title\": \"My Test Title\",\n",
    "    \"tags\": \"test, group, poc, scripts\",\n",
    "    \"description\": \"Test group for partner python scripts\",\n",
    "    \"access\": 'private',\n",
    "    \"is_invitation_only\": True,\n",
    "    \"users_update_items\": False\n",
    "}"
   ]
  },
  {
   "cell_type": "code",
   "execution_count": null,
   "metadata": {
    "collapsed": true
   },
   "outputs": [],
   "source": [
    "# create the group if it doesn't already exist\n",
    "group = search_group_title(gis, group_schema[\"title\"])\n",
    "if group is None:\n",
    "    group = gis.groups.create_from_dict(group_schema)\n",
    "group"
   ]
  },
  {
   "cell_type": "markdown",
   "metadata": {},
   "source": [
    "## Invite Users to Group\n",
    "\n",
    "Invite users to the group so you can share content. Two quick notes:\n",
    "1. The API does not currently support programmatically accepting invites on behalf of users\n",
    "2. You can also [search](https://esri.github.io/arcgis-python-api/apidoc/html/arcgis.gis.toc.html#arcgis.gis.UserManager.search) for existing users, instead of hard-coding"
   ]
  },
  {
   "cell_type": "code",
   "execution_count": null,
   "metadata": {
    "collapsed": true
   },
   "outputs": [],
   "source": [
    "usernames = ['mspatialstartups']"
   ]
  },
  {
   "cell_type": "code",
   "execution_count": null,
   "metadata": {
    "collapsed": true
   },
   "outputs": [],
   "source": [
    "group.add_users(usernames)"
   ]
  }
 ],
 "metadata": {
  "kernelspec": {
   "display_name": "Python 3",
   "language": "python",
   "name": "python3"
  },
  "language_info": {
   "codemirror_mode": {
    "name": "ipython",
    "version": 3
   },
   "file_extension": ".py",
   "mimetype": "text/x-python",
   "name": "python",
   "nbconvert_exporter": "python",
   "pygments_lexer": "ipython3",
   "version": "3.6.3"
  }
 },
 "nbformat": 4,
 "nbformat_minor": 2
}
