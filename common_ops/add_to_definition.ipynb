{
 "cells": [
  {
   "cell_type": "markdown",
   "metadata": {},
   "source": [
    "# Add to Definition\n",
    "\n",
    "Add to Definition includes powerful capabilities such as adding **indexes** or **new fields**. A few samples below:"
   ]
  },
  {
   "cell_type": "code",
   "execution_count": null,
   "metadata": {
    "collapsed": true
   },
   "outputs": [],
   "source": [
    "from arcgis.gis import GIS\n",
    "from arcgis.features import FeatureLayer, SpatialDataFrame"
   ]
  },
  {
   "cell_type": "code",
   "execution_count": null,
   "metadata": {},
   "outputs": [],
   "source": [
    "gis = GIS(username=\"mpayson_startups\")"
   ]
  },
  {
   "cell_type": "code",
   "execution_count": null,
   "metadata": {
    "collapsed": true
   },
   "outputs": [],
   "source": [
    "lyr = FeatureLayer(\"<MY LAYER>\", gis=gis)"
   ]
  },
  {
   "cell_type": "markdown",
   "metadata": {},
   "source": [
    "## Feature Layer: Add Index\n",
    "[Feature Layer](http://esri.github.io/arcgis-python-api/apidoc/html/arcgis.features.toc.html#featurelayer) || [the Manager](http://esri.github.io/arcgis-python-api/apidoc/html/arcgis.features.managers.html?highlight=manager#featurelayermanager) || [About indexes](https://en.wikipedia.org/wiki/Database_index) || [Rest endpoint](http://resources.arcgis.com/en/help/arcgis-rest-api/#/Add_to_Definition_Feature_Layer/02r300000228000000/)\n",
    "\n",
    "Note, you can also [rebuild indexes](https://developers.arcgis.com/rest/services-reference/update-definition-feature-layer-.htm#ESRI_SECTION1_F0622AB2A11746FABD696D66A381E5E9)"
   ]
  },
  {
   "cell_type": "code",
   "execution_count": null,
   "metadata": {
    "collapsed": true
   },
   "outputs": [],
   "source": [
    "# existing indices\n",
    "lyr.properties.indexes"
   ]
  },
  {
   "cell_type": "code",
   "execution_count": null,
   "metadata": {},
   "outputs": [],
   "source": [
    "newIndex = {\n",
    "    \"name\" : \"<MY INDEX NAME>\", \n",
    "    \"fields\" : \"<FIELD TO INDEX>\"\n",
    "}\n",
    "update_dict = {\"indexes\" : [indexes]}"
   ]
  },
  {
   "cell_type": "code",
   "execution_count": null,
   "metadata": {
    "collapsed": true
   },
   "outputs": [],
   "source": [
    "lyr.manager.add_to_definition(updates)"
   ]
  },
  {
   "cell_type": "markdown",
   "metadata": {},
   "source": [
    "## Feature Layer: Add Field\n",
    "[Feature Layer](http://esri.github.io/arcgis-python-api/apidoc/html/arcgis.features.toc.html#featurelayer) || [the Manager](http://esri.github.io/arcgis-python-api/apidoc/html/arcgis.features.managers.html?highlight=manager#featurelayermanager) || [About field types](http://pro.arcgis.com/en/pro-app/tool-reference/data-management/add-field.htm) || [Rest endpoint](http://resources.arcgis.com/en/help/arcgis-rest-api/#/Add_to_Definition_Feature_Layer/02r300000228000000/)"
   ]
  },
  {
   "cell_type": "code",
   "execution_count": null,
   "metadata": {
    "collapsed": true
   },
   "outputs": [],
   "source": [
    "new_field = {\n",
    "    \"name\": \"TEST_STR_FIELD\",\n",
    "    \"type\": \"esriFieldTypeString\",\n",
    "    \"alias\": \"TEST_STR_FIELD\",\n",
    "    \"length\": 256,\n",
    "    \"nullable\": True,\n",
    "    \"editable\": True,\n",
    "    \"visible\": True,\n",
    "    \"domain\": None\n",
    "}\n",
    "update_dict = {\"fields\": [new_field]}"
   ]
  },
  {
   "cell_type": "code",
   "execution_count": null,
   "metadata": {
    "collapsed": true
   },
   "outputs": [],
   "source": [
    "lyr.manager.add_to_definition(update_dict)"
   ]
  }
 ],
 "metadata": {
  "kernelspec": {
   "display_name": "Python 3",
   "language": "python",
   "name": "python3"
  },
  "language_info": {
   "codemirror_mode": {
    "name": "ipython",
    "version": 3
   },
   "file_extension": ".py",
   "mimetype": "text/x-python",
   "name": "python",
   "nbconvert_exporter": "python",
   "pygments_lexer": "ipython3",
   "version": "3.6.3"
  }
 },
 "nbformat": 4,
 "nbformat_minor": 2
}
