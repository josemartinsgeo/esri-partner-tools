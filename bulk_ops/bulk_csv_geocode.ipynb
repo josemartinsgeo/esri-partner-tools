{
 "cells": [
  {
   "cell_type": "markdown",
   "metadata": {},
   "source": [
    "# Bulk CSV Geocode\n",
    "*A notebook to [geocode](https://developers.arcgis.com/features/geocoding/) rows in a `csv`*"
   ]
  },
  {
   "cell_type": "code",
   "execution_count": null,
   "metadata": {},
   "outputs": [],
   "source": [
    "# common imports\n",
    "import csv\n",
    "from arcgis.gis import GIS\n",
    "from arcgis.geocoding import batch_geocode"
   ]
  },
  {
   "cell_type": "markdown",
   "metadata": {},
   "source": [
    "## User Input\n",
    "* **GIS**: Your GIS instance, parameter information [here](https://developers.arcgis.com/python/guide/using-the-gis/). Not specifying a password creates a password prompt"
   ]
  },
  {
   "cell_type": "code",
   "execution_count": null,
   "metadata": {},
   "outputs": [],
   "source": [
    "gis = GIS(username=\"mpayson_startups\")"
   ]
  },
  {
   "cell_type": "markdown",
   "metadata": {},
   "source": [
    "* **csv_path**: path to the `csv` to be geocoded\n",
    "* **out_path**: path to the output `csv`\n",
    "* **address_fields**: map geocode request fields to csv fields, can also be a SingleLine field string--more [here](https://developers.arcgis.com/rest/geocode/api-reference/geocoding-geocode-addresses.htm) "
   ]
  },
  {
   "cell_type": "code",
   "execution_count": null,
   "metadata": {
    "collapsed": true
   },
   "outputs": [],
   "source": [
    "csv_path = \"NYC Inspection test.csv\"\n",
    "out_path = \"Geocode Results.csv\"\n",
    "address_fields = {\n",
    "    \"Address\": \"ADDRESS\",\n",
    "    \"City\": \"CITY\",\n",
    "    \"Region\": \"STATE\",\n",
    "    \"Postal\": \"ZIPCODE\"\n",
    "}"
   ]
  },
  {
   "cell_type": "markdown",
   "metadata": {},
   "source": [
    "## Functions"
   ]
  },
  {
   "cell_type": "code",
   "execution_count": null,
   "metadata": {},
   "outputs": [],
   "source": [
    "# translate csv fields to geocode request fields\n",
    "def format_request_address(row, address_fields):\n",
    "    if type(address_fields) == str:\n",
    "        return row[address_fields]\n",
    "    return {field: row[address_fields[field]] for field in address_fields}\n",
    "\n",
    "# geocoders have a request limit, the world geocoding service has a 1000 item limit\n",
    "def geocode_chunk(row, n=1000):\n",
    "    for i in range(0, len(row), n):\n",
    "        yield row[i:i + n]\n",
    "\n",
    "# get output location dictionary from geocode result\n",
    "def get_location(res):\n",
    "    if res:\n",
    "        return {\n",
    "            \"x\": res['location']['x'],\n",
    "            \"y\": res['location']['y'],\n",
    "            \"score\": res['score']\n",
    "        }\n",
    "    return {}"
   ]
  },
  {
   "cell_type": "markdown",
   "metadata": {},
   "source": [
    "## Execution"
   ]
  },
  {
   "cell_type": "code",
   "execution_count": null,
   "metadata": {},
   "outputs": [],
   "source": [
    "# read the csv\n",
    "with open(csv_path, 'r') as data_csv:\n",
    "    rows = csv.DictReader(data_csv)\n",
    "    data = [row for row in rows]\n",
    "\n",
    "# chunk the data for request limits\n",
    "data_chunks = list(geocode_chunk(data))"
   ]
  },
  {
   "cell_type": "code",
   "execution_count": null,
   "metadata": {},
   "outputs": [],
   "source": [
    "output = []\n",
    "\n",
    "# iterate through chunks, format the address requests, geocode, merge location results with chunk data\n",
    "for chunk in data_chunks:\n",
    "    adrs = [format_request_address(r, address_fields) for r in chunk]\n",
    "    results = batch_geocode(addresses=adrs)\n",
    "    chunk_out = [{**r, **get_location(results[i])} for i, r in enumerate(chunk)]\n",
    "    output += chunk_out"
   ]
  },
  {
   "cell_type": "code",
   "execution_count": null,
   "metadata": {
    "collapsed": true
   },
   "outputs": [],
   "source": [
    "# write output\n",
    "with open(out_path, 'w') as csvfile:\n",
    "    writer = csv.DictWriter(csvfile, fieldnames=output[0].keys())\n",
    "    writer.writeheader()\n",
    "    for row in output:\n",
    "        writer.writerow(row)\n"
   ]
  }
 ],
 "metadata": {
  "kernelspec": {
   "display_name": "Python 3",
   "language": "python",
   "name": "python3"
  },
  "language_info": {
   "codemirror_mode": {
    "name": "ipython",
    "version": 3
   },
   "file_extension": ".py",
   "mimetype": "text/x-python",
   "name": "python",
   "nbconvert_exporter": "python",
   "pygments_lexer": "ipython3",
   "version": "3.6.3"
  }
 },
 "nbformat": 4,
 "nbformat_minor": 2
}
