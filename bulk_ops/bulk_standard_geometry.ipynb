{
 "cells": [
  {
   "cell_type": "markdown",
   "metadata": {},
   "source": [
    "# Bulk Standard Geometry\n",
    "A notebook to enrich **[standard geography](https://developers.arcgis.com/rest/geoenrichment/api-reference/standard-geography-query.htm) ids**, such as `census block groups`, with their geometries and publish as a geographic layer. This uses the [`standard_geography_query`](https://esri.github.io/arcgis-python-api/apidoc/html/arcgis.geoenrichment.html#standard-geography-query) function and there's a blog about these queries [here](https://blogs.esri.com/esri/arcgis/2017/07/10/best-practices-how-to-query-standard-geographies-branches/)."
   ]
  },
  {
   "cell_type": "code",
   "execution_count": 2,
   "metadata": {
    "collapsed": true
   },
   "outputs": [],
   "source": [
    "# common imports\n",
    "import pandas as pd\n",
    "from arcgis.gis import GIS\n",
    "from arcgis.features import SpatialDataFrame\n",
    "from arcgis.geoenrichment import standard_geography_query"
   ]
  },
  {
   "cell_type": "code",
   "execution_count": 3,
   "metadata": {
    "collapsed": true
   },
   "outputs": [],
   "source": [
    "# import relative util function\n",
    "import os\n",
    "import sys\n",
    "module_path = os.path.abspath(os.path.join('..'))\n",
    "if module_path not in sys.path:\n",
    "    sys.path.append(module_path)\n",
    "from utils.cool_utils import chunk"
   ]
  },
  {
   "cell_type": "markdown",
   "metadata": {},
   "source": [
    "## User Input\n",
    "* **GIS**: Your GIS instance, parameter information [here](https://developers.arcgis.com/python/guide/using-the-gis/). Not specifying a password creates a password prompt"
   ]
  },
  {
   "cell_type": "code",
   "execution_count": null,
   "metadata": {
    "collapsed": true
   },
   "outputs": [],
   "source": [
    "gis = GIS(username=\"mpayson_startups\")"
   ]
  },
  {
   "cell_type": "markdown",
   "metadata": {},
   "source": [
    "* **csv_path**: Path to the `csv` to be geocoded\n",
    "* **lyr_title**: Title for output hosted layer\n",
    "* **layers**: The standard geography layers whose geometry you want to fetch. Here's the [US list](http://geoenrich.arcgis.com/arcgis/rest/services/World/GeoenrichmentServer/Geoenrichment/StandardGeographyLevels/US/census?f=pjson) of layers.\n",
    "* **f_std_id**: The `csv` field with the ids corresponding to a standard geography layer"
   ]
  },
  {
   "cell_type": "code",
   "execution_count": 4,
   "metadata": {
    "collapsed": true
   },
   "outputs": [],
   "source": [
    "csv_path = 'test_in.csv'\n",
    "lyr_title = 'test_out.csv'\n",
    "layers = ['US.BlockGroups']\n",
    "f_std_id = 'census_block_group'"
   ]
  },
  {
   "cell_type": "markdown",
   "metadata": {},
   "source": [
    "## Execution"
   ]
  },
  {
   "cell_type": "code",
   "execution_count": null,
   "metadata": {
    "collapsed": true
   },
   "outputs": [],
   "source": [
    "# read df\n",
    "df = pd.read_csv(csv_path)"
   ]
  },
  {
   "cell_type": "code",
   "execution_count": null,
   "metadata": {
    "collapsed": true
   },
   "outputs": [],
   "source": [
    "# get and concat block geometries, chunking because of request time-outs\n",
    "ids = [i for i in df[f_std_id]]\n",
    "gdf = pd.concat((standard_geography_query(layers=layers, ids=c, return_geometry=True) for c in chunk(blocks)))"
   ]
  },
  {
   "cell_type": "code",
   "execution_count": null,
   "metadata": {
    "collapsed": true
   },
   "outputs": [],
   "source": [
    "# merge geometries\n",
    "sdf = pd.merge(gdf, df, left_on='AreaID', right_on=f_std_id)"
   ]
  },
  {
   "cell_type": "code",
   "execution_count": null,
   "metadata": {
    "collapsed": true
   },
   "outputs": [],
   "source": [
    "# rebuild spatial dataframe, merge created unpredictable results when publishing\n",
    "atr_df = sdf.drop('SHAPE', axis=1)\n",
    "geom = [g for g in sdf['SHAPE']]\n",
    "sdf2 = SpatialDataFrame(data=atr_df, geometry=geom)"
   ]
  },
  {
   "cell_type": "code",
   "execution_count": null,
   "metadata": {
    "collapsed": true
   },
   "outputs": [],
   "source": [
    "# Send it!\n",
    "sdf2.to_featurelayer(lyr_title)"
   ]
  }
 ],
 "metadata": {
  "kernelspec": {
   "display_name": "Python 3",
   "language": "python",
   "name": "python3"
  },
  "language_info": {
   "codemirror_mode": {
    "name": "ipython",
    "version": 3
   },
   "file_extension": ".py",
   "mimetype": "text/x-python",
   "name": "python",
   "nbconvert_exporter": "python",
   "pygments_lexer": "ipython3",
   "version": "3.6.3"
  }
 },
 "nbformat": 4,
 "nbformat_minor": 2
}
