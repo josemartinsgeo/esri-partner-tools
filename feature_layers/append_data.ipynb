{
 "cells": [
  {
   "cell_type": "markdown",
   "metadata": {},
   "source": [
    "# Append Data\n",
    "Reads a csv into a dataframe, chunks the dataframe, publishes the first chunk, then appends the remaining chunks. This showcases the **[`edit_features`](https://esri.github.io/arcgis-python-api/apidoc/html/arcgis.features.toc.html#arcgis.features.FeatureLayer.edit_features)** function to append data when working with a [SpatialDataFrame](https://esri.github.io/arcgis-python-api/apidoc/html/arcgis.features.toc.html#arcgis.features.SpatialDataFrame)"
   ]
  },
  {
   "cell_type": "code",
   "execution_count": null,
   "metadata": {
    "collapsed": true
   },
   "outputs": [],
   "source": [
    "import pandas as pd\n",
    "import json\n",
    "from arcgis.gis import GIS\n",
    "from arcgis.features import SpatialDataFrame\n",
    "from arcgis.geometry import Point"
   ]
  },
  {
   "cell_type": "code",
   "execution_count": null,
   "metadata": {},
   "outputs": [],
   "source": [
    "# log in to your GIS\n",
    "gis = GIS(username=\"mpayson_startups\")"
   ]
  },
  {
   "cell_type": "code",
   "execution_count": null,
   "metadata": {
    "collapsed": true
   },
   "outputs": [],
   "source": [
    "# chunk a dataframe\n",
    "def chunk_df(df, n=1000):\n",
    "    for i in range(0, len(df), n):\n",
    "        yield df.iloc[i:i + n].copy()\n",
    "\n",
    "# constructs a point from a row or dictionary\n",
    "def get_point_for_row(row, coord_fields):\n",
    "    p_dict = {}\n",
    "    p_dict['x'] = row[coord_fields['x']]\n",
    "    p_dict['y'] = row[coord_fields['y']]\n",
    "    if 'z' in coord_fields and coord_fields['z']:\n",
    "        p_dict['z'] = row[coord_fields['z']]\n",
    "    return Point(p_dict)"
   ]
  },
  {
   "cell_type": "code",
   "execution_count": null,
   "metadata": {
    "collapsed": true
   },
   "outputs": [],
   "source": [
    "# path to data\n",
    "csv_path = \"../test_data/NYC Inspections Geocoded.csv\"\n",
    "\n",
    "# maps 'x', 'y', 'z' fields to the appropriate CSV fields\n",
    "coord_fields = {\n",
    "    \"x\": \"x\",\n",
    "    \"y\": \"y\",\n",
    "    #\"z\": \"<Z COLUMN (optional)>\"\n",
    "}"
   ]
  },
  {
   "cell_type": "code",
   "execution_count": null,
   "metadata": {},
   "outputs": [],
   "source": [
    "# read csv and construct spatial dataframe\n",
    "df = pd.read_csv(csv_path)\n",
    "df_geom = df.apply(lambda row: get_point_for_row(row, coord_fields), axis=1)\n",
    "sdf = SpatialDataFrame(data=df, geometry=df_geom)\n",
    "len(sdf)"
   ]
  },
  {
   "cell_type": "code",
   "execution_count": null,
   "metadata": {},
   "outputs": [],
   "source": [
    "# iterate through chunks to create and append data\n",
    "lyr = None\n",
    "for c_df in chunk_df(sdf, 50):\n",
    "    if not lyr:\n",
    "        item = c_df.to_featurelayer(\"MyFeatureService\")\n",
    "        lyr = item.layers[0]\n",
    "    else:\n",
    "        # THIS IS THE APPEND DATA PART\n",
    "        fs = c_df.to_featureset()\n",
    "        success = lyr.edit_features(adds=fs)\n",
    "item"
   ]
  }
 ],
 "metadata": {
  "kernelspec": {
   "display_name": "Python 3",
   "language": "python",
   "name": "python3"
  },
  "language_info": {
   "codemirror_mode": {
    "name": "ipython",
    "version": 3
   },
   "file_extension": ".py",
   "mimetype": "text/x-python",
   "name": "python",
   "nbconvert_exporter": "python",
   "pygments_lexer": "ipython3",
   "version": "3.6.3"
  }
 },
 "nbformat": 4,
 "nbformat_minor": 2
}
