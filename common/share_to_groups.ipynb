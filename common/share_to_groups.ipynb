{
 "cells": [
  {
   "cell_type": "markdown",
   "metadata": {},
   "source": [
    "# Share to Group\n",
    "A quick script demonstrating how to share items to [groups](https://doc.arcgis.com/en/arcgis-online/share-maps/groups.htm). Groups are used to share content with other ArcGIS users without cloning content. To set up groups, see [configure](https://github.com/mpayson/partner-python-tools/blob/master/build_org/configure_org.ipynb) for new users, or [create_share](https://github.com/mpayson/partner-python-tools/blob/master/build_org/create_share_group.ipynb) for existing users."
   ]
  },
  {
   "cell_type": "code",
   "execution_count": null,
   "metadata": {},
   "outputs": [],
   "source": [
    "from arcgis.gis import GIS"
   ]
  },
  {
   "cell_type": "markdown",
   "metadata": {},
   "source": [
    "***Note**, if you are unable to import local `partnerutils`, **copy the following functions** from [`clone_utils`](https://github.com/mpayson/partner-python-tools/blob/master/partnerutils/clone_utils.py) and [`feature_utils`](https://github.com/mpayson/partner-python-tools/blob/master/partnerutils/feature_utils.py)"
   ]
  },
  {
   "cell_type": "code",
   "execution_count": null,
   "metadata": {},
   "outputs": [],
   "source": [
    "from partnerutils.clone_utils import search_group_title, search_item_title\n",
    "from partnerutils.feature_utils import sdf_from_xyz"
   ]
  },
  {
   "cell_type": "code",
   "execution_count": null,
   "metadata": {},
   "outputs": [],
   "source": [
    "gis = GIS(username=\"mpayson_startups\")"
   ]
  },
  {
   "cell_type": "markdown",
   "metadata": {},
   "source": [
    "#### Fetch Groups"
   ]
  },
  {
   "cell_type": "code",
   "execution_count": null,
   "metadata": {},
   "outputs": [],
   "source": [
    "group_names = ['groupa', 'groupb']\n",
    "groups = [search_group_title(gis, n) for n in group_names]\n",
    "groups"
   ]
  },
  {
   "cell_type": "markdown",
   "metadata": {},
   "source": [
    "#### Share Content\n",
    "***Note**, this sample searches for an existing item. You could also first publish the items, for feature publishing examples see [`feature_layers/`](https://github.com/mpayson/partner-python-tools/tree/master/feature_layers)"
   ]
  },
  {
   "cell_type": "code",
   "execution_count": null,
   "metadata": {},
   "outputs": [],
   "source": [
    "item_res = gis.content.search(query='title: \"Griffith*\" AND type: \"Feature Service\"')\n",
    "item = item_res[0]\n",
    "item"
   ]
  },
  {
   "cell_type": "code",
   "execution_count": null,
   "metadata": {},
   "outputs": [],
   "source": [
    "item.share(groups=groups)"
   ]
  }
 ],
 "metadata": {
  "kernelspec": {
   "display_name": "Python 3",
   "language": "python",
   "name": "python3"
  },
  "language_info": {
   "codemirror_mode": {
    "name": "ipython",
    "version": 3
   },
   "file_extension": ".py",
   "mimetype": "text/x-python",
   "name": "python",
   "nbconvert_exporter": "python",
   "pygments_lexer": "ipython3",
   "version": "3.6.3"
  }
 },
 "nbformat": 4,
 "nbformat_minor": 2
}
